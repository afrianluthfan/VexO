{
  "cells": [
    {
      "cell_type": "markdown",
      "metadata": {},
      "source": [
        "# VexO (Veritas Ex Oculi)\n",
        "> Truth from the eyes\n",
        "***\n",
        "\n"
      ]
    },
    {
      "cell_type": "markdown",
      "metadata": {},
      "source": [
        "<div class=\"alert alert-block alert-info\">\n",
        "<b>Tip:</b> Tes satu gambar yang persenannya paling salah, validasi dari situ.\n",
        "</div>"
      ]
    },
    {
      "cell_type": "markdown",
      "metadata": {},
      "source": [
        "## Inisialisasi Project"
      ]
    },
    {
      "cell_type": "markdown",
      "metadata": {},
      "source": [
        "### Import dependencies\n",
        "Import dependencies dari program, seperti OpenCV, Numpy, Pytesseract, Keras, dan Scikit-learn."
      ]
    },
    {
      "cell_type": "code",
      "execution_count": null,
      "metadata": {},
      "outputs": [],
      "source": [
        "import cv2\n",
        "import numpy as np\n",
        "import pytesseract\n",
        "import os\n",
        "os.environ['TF_CPP_MIN_LOG_LEVEL'] = '2'  # Suppress info and warnings, only errors will be shown\n",
        "from keras.api.applications import Xception\n",
        "from keras.api.models import Sequential, load_model\n",
        "from keras.api.layers import Dense, Input\n",
        "from keras.api.applications.xception import preprocess_input\n",
        "from sklearn.model_selection import train_test_split\n",
        "import glob"
      ]
    },
    {
      "cell_type": "markdown",
      "metadata": {},
      "source": [
        "### Define path\n",
        "Tentukan/definisikan folder untuk training data. Folder terbagi menjadi dua,  **Fake** dan **Real**. Gambar yang **palsu/tidak valid** dimasukkan ke dalam folder **Fake** dan di-*assign* ke variabel *fake_image_dir*, dan gambar yang **asli/valid** dimasukkan ke dalam folder **Real** yang kemudian di-*assign* ke dalam variabel *real_image_dir*."
      ]
    },
    {
      "cell_type": "code",
      "execution_count": null,
      "metadata": {},
      "outputs": [],
      "source": [
        "# Define paths to your data\n",
        "real_image_dir = 'C:/Users/afria/Downloads/ml-backup/real'\n",
        "fake_image_dir = 'C:/Users/afria/Downloads/ml-backup/fake'"
      ]
    },
    {
      "cell_type": "markdown",
      "metadata": {},
      "source": [
        "### Load model\n",
        "Inisiasi model, dalam kasus ini menggunakan model Xception yang sudah di-*training* menggunakan [ImageNet](https://www.image-net.org/)."
      ]
    },
    {
      "cell_type": "code",
      "execution_count": null,
      "metadata": {},
      "outputs": [],
      "source": [
        "# Load the Xception model, pretrained on ImageNet\n",
        "xception_model = Xception(weights='imagenet', include_top=False, pooling='avg')"
      ]
    },
    {
      "cell_type": "markdown",
      "metadata": {},
      "source": [
        "## Pendifinisian Fungsi"
      ]
    },
    {
      "cell_type": "markdown",
      "metadata": {},
      "source": [
        "### Fungsi load_and_preprocess_image\n",
        "\n",
        "Fungsi ini berguna untuk loading dan reisizing/mengatur ukuran gambar menjadi ukuran X kali Y pixel. Dalam kasus ini, ukuran gambar diubah menjadi 299x299 pixel. Jika tidak ada gambar yang dimuat, maka program akan mengeluarkan sebuah *Error Warning*. Fungsi ini mengambil parameter path dan image_array."
      ]
    },
    {
      "cell_type": "code",
      "execution_count": null,
      "metadata": {},
      "outputs": [],
      "source": [
        "def load_and_preprocess_image(path=None, image_array=None):\n",
        "    if path:\n",
        "        img = cv2.imread(path)\n",
        "        x = cv2.resize(img, (299, 299))\n",
        "    elif image_array is not None:\n",
        "        x = cv2.resize(image_array, (299, 299))\n",
        "    else:\n",
        "        raise ValueError(\"Either path or image_array must be provided.\")\n",
        "    x = np.expand_dims(x, axis=0)\n",
        "    x = preprocess_input(x)\n",
        "    return x"
      ]
    },
    {
      "cell_type": "markdown",
      "metadata": {},
      "source": [
        "### Fungsi extract_features\n",
        "\n",
        "Fungsi ini berguna untuk mengekstrak fitur-fitur atau ciri-ciri dari gambar yang sudah dipilah antara Fake dan Real menggunakan model [Xception](https://keras.io/api/applications/xception/). Fungsi ini mengambil parameter image_array."
      ]
    },
    {
      "cell_type": "code",
      "execution_count": null,
      "metadata": {},
      "outputs": [],
      "source": [
        "def extract_features(image_array):\n",
        "    img = load_and_preprocess_image(image_array=image_array)\n",
        "    features = xception_model.predict(img)\n",
        "    return features"
      ]
    },
    {
      "cell_type": "markdown",
      "metadata": {},
      "source": [
        "### Fungsi ocr_check\n",
        "Fungsi ini berguna untuk mendeteksi teks pada gambar yang diproses dengan menggunakan [Tesseract](https://github.com/tesseract-ocr/tesseract). Pada kasus ini, ocr_check akan mengecek kehadiran teks *faceswap* dan *manycams* dalam gambar. Jika ditemukan, fungsi ini akan menghasilkan nilai **True**. Fungsi ini mengambil parameter image."
      ]
    },
    {
      "cell_type": "code",
      "execution_count": null,
      "metadata": {},
      "outputs": [],
      "source": [
        "def ocr_check(image):\n",
        "    text = pytesseract.image_to_string(image)\n",
        "    text = text.lower()  # Convert text to lowercase for easier matching\n",
        "    if \"faceswap\" in text or \"manycam\" in text:\n",
        "        return True\n",
        "    return False"
      ]
    },
    {
      "cell_type": "markdown",
      "metadata": {},
      "source": [
        "### Fungsi load_images_from_directory\n",
        "Fungsi ini berguna untuk memuat atau mengambil gambar dari *directory*. Fungsi ini akan mengambil seluruh file yang ada dalam sebuah *directory* untuk kemudian diproses. Gambar yang diambil oleh fungsi ini akan dimasukkan ke dalam sebuah *Array* menjadi bentuk image_array. Fungsi ini mengambil parameter directory."
      ]
    },
    {
      "cell_type": "code",
      "execution_count": null,
      "metadata": {},
      "outputs": [],
      "source": [
        "def load_images_from_directory(directory):\n",
        "    images = []\n",
        "    labels = []\n",
        "    for filename in os.listdir(directory):\n",
        "        if filename.endswith(('.png:Zone.Identifier', '.jpg:Zone.Identifier')):\n",
        "            continue\n",
        "        img_path = os.path.join(directory, filename)\n",
        "        img = cv2.imread(img_path)\n",
        "        if img is not None:\n",
        "            features = extract_features(img)\n",
        "            features = np.squeeze(features)\n",
        "            images.append(features)\n",
        "            label = 1 if directory == real_image_dir else 0\n",
        "            labels.append(label)\n",
        "    return np.array(images), np.array(labels)"
      ]
    },
    {
      "cell_type": "markdown",
      "metadata": {},
      "source": [
        "### Fungsi train_model\n",
        "Fungsi ini berguna untuk melatih model agar dapat membedakan antara mana gambar KYC nasabah yang valid dan yang tidak valid. *User* tidak perlu mengajarkan program apa saja ciri-ciri dari KYC nasabah yang tidak valid, karena program memiliki fungsi train_model yang bisa mengajari dirinya sendiri."
      ]
    },
    {
      "cell_type": "code",
      "execution_count": null,
      "metadata": {},
      "outputs": [],
      "source": [
        "def train_model():\n",
        "    real_images, real_labels = load_images_from_directory(real_image_dir)\n",
        "    fake_images, fake_labels = load_images_from_directory(fake_image_dir)\n",
        "    images = np.concatenate((real_images, fake_images))\n",
        "    labels = np.concatenate((real_labels, fake_labels))\n",
        "    if images.size == 0 or labels.size == 0:\n",
        "        print(\"No images loaded. Please check your directories.\")\n",
        "        return\n",
        "    X_train, X_val, y_train, y_val = train_test_split(images, labels, test_size=0.2, random_state=42)\n",
        "    model = Sequential([\n",
        "        Input(shape=(2048,)),  # Adjust this to 2048 to match the Xception output\n",
        "        Dense(512, activation='relu'),\n",
        "        Dense(128, activation='relu'),\n",
        "        Dense(1, activation='sigmoid')\n",
        "    ])\n",
        "\n",
        "    model.compile(optimizer='adam', loss='binary_crossentropy', metrics=['accuracy'])\n",
        "    model.fit(X_train, y_train, validation_data=(X_val, y_val), epochs=10, batch_size=16)\n",
        "    model.save('image_classifier_model.keras')\n",
        "    print(\"Model training complete and saved.\")"
      ]
    },
    {
      "cell_type": "markdown",
      "metadata": {},
      "source": [
        "### Fungsi update_model\n",
        "Fungsi ini berguna untuk memperbarui model setelah program menerima user input bila ada sebuah prediksi yang salah. Hal ini diimplementasikan guna mempercepat proses pembelajaran program. Fungsi ini mengambil parameter features dan correct_label."
      ]
    },
    {
      "cell_type": "code",
      "execution_count": null,
      "metadata": {},
      "outputs": [],
      "source": [
        "def update_model(features, correct_label):\n",
        "    try:\n",
        "        model = load_model('image_classifier_model.keras')\n",
        "        X_train = np.expand_dims(features, axis=0)\n",
        "        y_train = np.array([correct_label])\n",
        "        model.fit(X_train, y_train, epochs=1, batch_size=1, verbose=1)\n",
        "        model.save('image_classifier_model.keras')\n",
        "        print(\"Model updated and saved with the corrected label: \", correct_label)\n",
        "    except Exception as e:\n",
        "        print(\"Error loading model: \", e)"
      ]
    },
    {
      "cell_type": "markdown",
      "metadata": {},
      "source": [
        "### Fungsi process_image_test\n",
        "Fungsi ini berguna untuk mengetes sebuah gambar secara individu. Dalam fungsi ini, program dapat meminta validasi dari *user* untuk memastikan apakah prediksi program benar atau salah. Fungsi ini mengambil parameter model dan img_path."
      ]
    },
    {
      "cell_type": "code",
      "execution_count": null,
      "metadata": {},
      "outputs": [],
      "source": [
        "def process_image_test(model, img_path):\n",
        "    if not os.path.exists(img_path):\n",
        "        print(\"Error: The file does not exist.\")\n",
        "        return\n",
        "    image = cv2.imread(img_path)\n",
        "    if image is None:\n",
        "        print(\"Error: Unable to load the image.\")\n",
        "        return\n",
        "\n",
        "    # Perform OCR check before extracting features\n",
        "    if ocr_check(image):\n",
        "        print(\"Warning: Detected text indicating 'faceswap' or 'manycam'. This image may be manipulated.\")\n",
        "        return\n",
        "\n",
        "        # Extract features and make a prediction\n",
        "    features = extract_features(image)\n",
        "    features = np.squeeze(features)  # Remove extra dimension\n",
        "    score = model.predict(np.expand_dims(features, axis=0))[0][0]\n",
        "    print(f\"Prediction confidence score: {score:.4f}\")\n",
        "\n",
        "    # Output the result\n",
        "    if score >= 0.5:\n",
        "        print(\"Gambar ini diklasifikasikan sebagai asli.\")\n",
        "        predicted_label = 1\n",
        "    else:\n",
        "        print(\"Gambar ini diklasifikasikan sebagai palsu.\")\n",
        "        predicted_label = 0\n",
        "\n",
        "    # Ask for user confirmation\n",
        "    correct = input(\"Apakah prediksi benar? (y/t): \").strip().lower()\n",
        "    if correct == 't':\n",
        "        correct_label = 0 if predicted_label == 1 else 1\n",
        "        update_model(features, correct_label)\n",
        "    else:\n",
        "        print(\"No update needed.\")"
      ]
    },
    {
      "cell_type": "markdown",
      "metadata": {},
      "source": [
        "### Fungsi test_model\n",
        "Fungsi ini berguna untuk memunculkan prompt yang akan ditunjukkan kepada *user* sebelum *user* memilih file gambar yang akan kemudian dites secara individu."
      ]
    },
    {
      "cell_type": "code",
      "execution_count": null,
      "metadata": {},
      "outputs": [],
      "source": [
        "def test_model():\n",
        "    \"\"\"Test the model using an image provided by the user.\"\"\"\n",
        "    # Load the trained model\n",
        "    try:\n",
        "        model = load_model('image_classifier_model.keras')\n",
        "    except Exception as e:\n",
        "        print(f\"Error loading model: {e}\")\n",
        "        return\n",
        "\n",
        "    # Get the image path from the user\n",
        "    img_path = input(\"Enter the image path to test: \").strip()\n",
        "\n",
        "    if not os.path.exists(img_path):\n",
        "        print(f\"Error: File {img_path} tidak ditemukan.\")\n",
        "        return\n",
        "\n",
        "    image = cv2.imread(img_path)\n",
        "    if image is None:\n",
        "        print(f\"Error: Tidak dapat memuat gambar. Silakan cek path file dan keberadaan file tersebut.\")\n",
        "        return\n",
        "\n",
        "    process_image_test(model, img_path)"
      ]
    },
    {
      "cell_type": "markdown",
      "metadata": {},
      "source": [
        "### Fungsi test_multiple_images\n",
        "Fungsi ini berguna untuk mengetes banyak gambar sekaligus. Namun, yang membedakan fungsi ini dengan fungsi process_image_test yang hanya mengetes satu gambar, adalah fungsi ini tidak menerima feedback user atas prediksi yang dibuat program. Hal ini dilakukan agar proses penyesuaian prediksi yang berasal dari input user tidak terjadi dalam jumlah banyak secara sekaligus yang berujung menjadi tidak efisien dibandingkan dengan memberikan input kepada satu gambar saja."
      ]
    },
    {
      "cell_type": "code",
      "execution_count": null,
      "metadata": {},
      "outputs": [],
      "source": [
        "def test_multiple_images():\n",
        "    try:\n",
        "        model = load_model('image_classifier_model.keras')\n",
        "        file_paths = choose_multiple_images()  # Using updated CLI function\n",
        "        if not file_paths:\n",
        "            print(\"No images provided.\")\n",
        "            return\n",
        "\n",
        "        for img_path in file_paths:\n",
        "            if not os.path.exists(img_path):\n",
        "                print(f\"Error: File {img_path} not found.\")\n",
        "                continue\n",
        "            image = cv2.imread(img_path)\n",
        "            if image is None:\n",
        "                print(\"Error: Unable to load image.\")\n",
        "                continue\n",
        "            features = extract_features(image)\n",
        "            features = np.squeeze(features)\n",
        "            score = model.predict(np.expand_dims(features, axis=0))[0][0]\n",
        "            print(f\"Image: {img_path} - Kemungkinan gambar valid: {score * 100:.2f}%\")\n",
        "            if score >= 0.5:\n",
        "                print(\"Gambar ini valid.\")\n",
        "            else:\n",
        "                print(\"Gambar ini tidak valid.\")\n",
        "    except Exception as e:\n",
        "        print(\"Error loading model:\", e)"
      ]
    },
    {
      "cell_type": "markdown",
      "metadata": {},
      "source": [
        "### Fungsi choose_multiple_images\n",
        "Fungsi ini berguna untuk memunculkan prompt yang akan ditunjukkan kepada *user* sebelum *user* memilih banyak file gambar yang akan kemudian dites secara bersamaan."
      ]
    },
    {
      "cell_type": "code",
      "execution_count": null,
      "metadata": {},
      "outputs": [],
      "source": [
        "def choose_multiple_images():\n",
        "    print(\"Please enter the paths of the images you want to test, separated by commas.\")\n",
        "    print(\"You can also enter a directory path to select all images in that folder.\")\n",
        "\n",
        "    img_paths = input(\"Enter image paths or a directory path: \").strip().split(',')\n",
        "    print(img_paths)\n",
        "    selected_files = []\n",
        "\n",
        "    for path in img_paths:\n",
        "        path = path.strip()\n",
        "\n",
        "        if os.path.isdir(path):\n",
        "            # If path is a directory, select all images in that directory\n",
        "            image_files = glob.glob(os.path.join(path, \"*.[pjPJ][pnPN][gG]\"))\n",
        "            selected_files.extend(image_files)\n",
        "        elif os.path.isfile(path):\n",
        "            # If path is a file, just add it to the list\n",
        "            selected_files.append(path)\n",
        "\n",
        "    if not selected_files:\n",
        "        print(\"No valid image paths provided.\")\n",
        "    else:\n",
        "        print(f\"Selected {len(selected_files)} images.\")\n",
        "\n",
        "    return selected_files\n"
      ]
    },
    {
      "cell_type": "markdown",
      "metadata": {},
      "source": [
        "### Fungsi main_menu\n",
        "Fungsi berguna untuk menampilkan menu utama secara terus-menerus bahkan setelah user selesai memilih pilihan untuk melatih model atau test model. Fungsi ini diimplementasikan untuk mempermudah *User Experience* dalam menggunakan program ini."
      ]
    },
    {
      "cell_type": "code",
      "execution_count": null,
      "metadata": {},
      "outputs": [],
      "source": [
        "def main_menu():\n",
        "    while True:\n",
        "        print(\"\\nChoose an option:\")\n",
        "        print(\"1. Train the model\")\n",
        "        print(\"2. Test a single image\")\n",
        "        print(\"3. Test multiple images\")\n",
        "        print(\"4. Exit\")\n",
        "        choice = input(\"Enter your choice (1-4): \")\n",
        "        if choice == '1':\n",
        "            train_model()\n",
        "        elif choice == '2':\n",
        "            test_model()\n",
        "        elif choice == '3':\n",
        "            test_multiple_images()\n",
        "        elif choice == '4':\n",
        "            print(\"Exiting the program.\")\n",
        "            break\n",
        "        else:\n",
        "            print(\"Invalid choice. Please enter a valid option (1-4).\")"
      ]
    },
    {
      "cell_type": "markdown",
      "metadata": {},
      "source": [
        "## Kode utama\n",
        "Berikut adalah kode utama yang akan dieksekusi secara terus-menerus hingga *user* memilih opsi 4 untuk keluar dari menu."
      ]
    },
    {
      "cell_type": "code",
      "execution_count": null,
      "metadata": {},
      "outputs": [],
      "source": [
        "if __name__ == \"__main__\":\n",
        "    main_menu()"
      ]
    }
  ],
  "metadata": {
    "accelerator": "GPU",
    "colab": {
      "collapsed_sections": [
        "TWFedZlCwBTK",
        "y_9DMBDOwIZs",
        "vF0u4BW0wgoN",
        "--anXtisx5c3",
        "LFSuy2_DzSIE",
        "JGfpTWYuzy_F"
      ],
      "gpuType": "T4",
      "provenance": []
    },
    "kernelspec": {
      "display_name": "Python 3 (ipykernel)",
      "language": "python",
      "name": "python3"
    }
  },
  "nbformat": 4,
  "nbformat_minor": 4
}
